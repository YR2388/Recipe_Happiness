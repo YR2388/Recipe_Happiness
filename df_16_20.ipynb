{
 "metadata": {
  "language_info": {
   "codemirror_mode": {
    "name": "ipython",
    "version": 3
   },
   "file_extension": ".py",
   "mimetype": "text/x-python",
   "name": "python",
   "nbconvert_exporter": "python",
   "pygments_lexer": "ipython3",
   "version": "3.7.3"
  },
  "orig_nbformat": 2,
  "kernelspec": {
   "name": "python373jvsc74a57bd0d40e05267a4318cbc1c068f5992c8b1fc3e1c899c365de450b349bc3914bb6b6",
   "display_name": "Python 3.7.3 64-bit"
  }
 },
 "nbformat": 4,
 "nbformat_minor": 2,
 "cells": [
  {
   "cell_type": "code",
   "execution_count": 35,
   "metadata": {},
   "outputs": [],
   "source": [
    "import pandas as pd \n",
    "import numpy as np\n",
    "df_16 = pd.read_csv(\"df_16.csv\")\n",
    "df_17 = pd.read_csv('df_17.csv')\n",
    "df_18 = pd.read_csv('df_18.csv')\n",
    "df_19 = pd.read_csv('df_19.csv')\n"
   ]
  },
  {
   "cell_type": "code",
   "execution_count": 40,
   "metadata": {},
   "outputs": [
    {
     "output_type": "execute_result",
     "data": {
      "text/plain": [
       "       Country  Happiness score  GDP per capita  Social support  \\\n",
       "0      Denmark            7.526        1.441784        1.163745   \n",
       "1  Switzerland            7.509        1.527334        1.145236   \n",
       "2      Iceland            7.501        1.426655        1.183259   \n",
       "3       Norway            7.498        1.577440        1.126896   \n",
       "4      Finland            7.413        1.405979        1.134640   \n",
       "\n",
       "   Healthy life expectancy  Freedom to make life choices  Generosity  \\\n",
       "0                 0.795040                      0.579413    0.361710   \n",
       "1                 0.863029                      0.585572    0.280825   \n",
       "2                 0.867333                      0.566242    0.476784   \n",
       "3                 0.795789                      0.596086    0.378948   \n",
       "4                 0.810914                      0.571037    0.254919   \n",
       "\n",
       "   Perceptions of corruption continent  year  \n",
       "0                   0.444532    Europe  2016  \n",
       "1                   0.412033    Europe  2016  \n",
       "2                   0.149747    Europe  2016  \n",
       "3                   0.357758    Europe  2016  \n",
       "4                   0.410040    Europe  2016  "
      ],
      "text/html": "<div>\n<style scoped>\n    .dataframe tbody tr th:only-of-type {\n        vertical-align: middle;\n    }\n\n    .dataframe tbody tr th {\n        vertical-align: top;\n    }\n\n    .dataframe thead th {\n        text-align: right;\n    }\n</style>\n<table border=\"1\" class=\"dataframe\">\n  <thead>\n    <tr style=\"text-align: right;\">\n      <th></th>\n      <th>Country</th>\n      <th>Happiness score</th>\n      <th>GDP per capita</th>\n      <th>Social support</th>\n      <th>Healthy life expectancy</th>\n      <th>Freedom to make life choices</th>\n      <th>Generosity</th>\n      <th>Perceptions of corruption</th>\n      <th>continent</th>\n      <th>year</th>\n    </tr>\n  </thead>\n  <tbody>\n    <tr>\n      <th>0</th>\n      <td>Denmark</td>\n      <td>7.526</td>\n      <td>1.441784</td>\n      <td>1.163745</td>\n      <td>0.795040</td>\n      <td>0.579413</td>\n      <td>0.361710</td>\n      <td>0.444532</td>\n      <td>Europe</td>\n      <td>2016</td>\n    </tr>\n    <tr>\n      <th>1</th>\n      <td>Switzerland</td>\n      <td>7.509</td>\n      <td>1.527334</td>\n      <td>1.145236</td>\n      <td>0.863029</td>\n      <td>0.585572</td>\n      <td>0.280825</td>\n      <td>0.412033</td>\n      <td>Europe</td>\n      <td>2016</td>\n    </tr>\n    <tr>\n      <th>2</th>\n      <td>Iceland</td>\n      <td>7.501</td>\n      <td>1.426655</td>\n      <td>1.183259</td>\n      <td>0.867333</td>\n      <td>0.566242</td>\n      <td>0.476784</td>\n      <td>0.149747</td>\n      <td>Europe</td>\n      <td>2016</td>\n    </tr>\n    <tr>\n      <th>3</th>\n      <td>Norway</td>\n      <td>7.498</td>\n      <td>1.577440</td>\n      <td>1.126896</td>\n      <td>0.795789</td>\n      <td>0.596086</td>\n      <td>0.378948</td>\n      <td>0.357758</td>\n      <td>Europe</td>\n      <td>2016</td>\n    </tr>\n    <tr>\n      <th>4</th>\n      <td>Finland</td>\n      <td>7.413</td>\n      <td>1.405979</td>\n      <td>1.134640</td>\n      <td>0.810914</td>\n      <td>0.571037</td>\n      <td>0.254919</td>\n      <td>0.410040</td>\n      <td>Europe</td>\n      <td>2016</td>\n    </tr>\n  </tbody>\n</table>\n</div>"
     },
     "metadata": {},
     "execution_count": 40
    }
   ],
   "source": [
    "df_16['year'] = str(2016)\n",
    "df_17['year'] = str(2017)\n",
    "df_18['year'] = str(2018)\n",
    "df_19['year'] = str(2019)\n",
    "df_all = df_16.append([df_17, df_18, df_19], sort = False)\n",
    "df_all.drop(df_all.columns[0], axis = 1, inplace = True)\n",
    "df_all.head()\n"
   ]
  },
  {
   "cell_type": "code",
   "execution_count": 41,
   "metadata": {},
   "outputs": [],
   "source": [
    "df_all.to_csv('df_all.csv')"
   ]
  },
  {
   "cell_type": "code",
   "execution_count": null,
   "metadata": {},
   "outputs": [],
   "source": []
  }
 ]
}